{
 "cells": [
  {
   "cell_type": "markdown",
   "metadata": {},
   "source": [
    "## Tic-Tac-Toe Agent\n",
    "---\n",
    "\n",
    "In this notebook, you will learn to build an RL agent (using Q-learning) that learns to play Numerical Tic-Tac-Toe with odd numbers. The environment is playing randomly with the agent, i.e. its strategy is to put an even number randomly in an empty cell. \n",
    "\n",
    "The following is the layout of the notebook:\n",
    "    - Defining epsilon-greedy strategy\n",
    "    - Tracking state-action pairs for convergence\n",
    "    - Define hyperparameters for the Q-learning algorithm\n",
    "    - Generating episode and applying Q-update equation\n",
    "    - Checking convergence in Q-values"
   ]
  },
  {
   "cell_type": "code",
   "execution_count": 1,
   "metadata": {},
   "outputs": [],
   "source": [
    "%config IPCompleter.greedy = True"
   ]
  },
  {
   "cell_type": "code",
   "execution_count": 2,
   "metadata": {},
   "outputs": [],
   "source": [
    "import collections\n",
    "import numpy as np\n",
    "import random\n",
    "import pickle\n",
    "import time\n",
    "import os\n",
    "\n",
    "from matplotlib import pyplot as plt\n",
    "from itertools import product\n",
    "\n",
    "%matplotlib inline"
   ]
  },
  {
   "cell_type": "markdown",
   "metadata": {},
   "source": [
    "### Environment Class\n",
    "---"
   ]
  },
  {
   "cell_type": "code",
   "execution_count": 3,
   "metadata": {},
   "outputs": [],
   "source": [
    "class TicTacToeEnvironment:\n",
    "    def __init__(self):\n",
    "        \"\"\"initialise the board\"\"\"\n",
    "\n",
    "        # initialise state as an array\n",
    "        self.state = [np.nan for _ in range(9)]\n",
    "\n",
    "        # all possible numbers\n",
    "        self.all_possible_numbers = [i for i in range(1, len(self.state) + 1)]\n",
    "\n",
    "        self.reset()\n",
    "\n",
    "    def is_winning(self, curr_state):\n",
    "        \"\"\"Takes state as an input and returns whether any row, column or diagonal has winning sum\n",
    "        Example: Input state- [1, 2, 3, 4, nan, nan, nan, nan, nan]\n",
    "        Output = False\"\"\"\n",
    "\n",
    "        # define possible index collections in each of (horizontal, vertical, diagonal) directions\n",
    "\n",
    "        # 3 horizontal rows of a 3 X 3 playing board\n",
    "        horizontal_indices = [[0, 1, 2], [3, 4, 5], [6, 7, 8]]\n",
    "\n",
    "        # 3 vertical rows of a 3 X 3 playing board\n",
    "        vertical_indices = [[0, 3, 6], [1, 4, 7], [2, 5, 8]]\n",
    "\n",
    "        # 2 diagonal rows : (top left --> bottom right) & (top right --> bottom left)\n",
    "        diagonal_indices = [[0, 4, 8], [2, 4, 6]]\n",
    "\n",
    "        # sum across each group of indices should be equal to 15 to win the game\n",
    "        horizontal_sum = [\n",
    "            np.sum(np.array(curr_state)[i]) for i in horizontal_indices\n",
    "        ]\n",
    "        vertical_sum = [\n",
    "            np.sum(np.array(curr_state)[i]) for i in vertical_indices\n",
    "        ]\n",
    "        diagonal_sum = [\n",
    "            np.sum(np.array(curr_state)[i]) for i in diagonal_indices\n",
    "        ]\n",
    "\n",
    "        horizontal_win = list(filter(lambda x: x == 15, horizontal_sum))\n",
    "        vertical_win = list(filter(lambda x: x == 15, vertical_sum))\n",
    "        diagonal_win = list(filter(lambda x: x == 15, diagonal_sum))\n",
    "\n",
    "        #  game is won if sum across any direction is equal to 15\n",
    "        if len(horizontal_win) != 0 or len(vertical_win) != 0 or len(\n",
    "                diagonal_win) != 0:\n",
    "            return True\n",
    "        else:\n",
    "            return False\n",
    "\n",
    "    def is_terminal(self, curr_state):\n",
    "        # Terminal state could be winning state or when the board is filled up\n",
    "\n",
    "        if self.is_winning(curr_state) == True:\n",
    "            return True, \"Win\"\n",
    "\n",
    "        elif len(self.allowed_positions(curr_state)) == 0:\n",
    "            return True, \"Tie\"\n",
    "\n",
    "        else:\n",
    "            return False, \"Resume\"\n",
    "\n",
    "    def allowed_positions(self, curr_state):\n",
    "        \"\"\"Takes state as an input and returns all indexes that are blank\"\"\"\n",
    "        return [i for i, val in enumerate(curr_state) if np.isnan(val)]\n",
    "\n",
    "    def allowed_values(self, curr_state):\n",
    "        \"\"\"Takes the current state as input and returns all possible (unused) values that can be placed on the board\"\"\"\n",
    "\n",
    "        # fetch all allowed values used in the game\n",
    "        used_values = [val for val in curr_state if not np.isnan(val)]\n",
    "\n",
    "        # RL agent is only allowed to play odd numbers : {1,3,5,7,9}\n",
    "        # fetch numbers which an agent can still play i.e.\n",
    "        # odd numbers which have not been played by the agent so far\n",
    "        agent_values = [\n",
    "            val for val in self.all_possible_numbers\n",
    "            if val not in used_values and val % 2 != 0\n",
    "        ]\n",
    "\n",
    "        # environment is only allowed to play even numbers : {2,4,6,8}\n",
    "        # fetch numbers which environment can still play i.e.\n",
    "        # even numbers which have not been played by the environment so far\n",
    "        env_values = [\n",
    "            val for val in self.all_possible_numbers\n",
    "            if val not in used_values and val % 2 == 0\n",
    "        ]\n",
    "\n",
    "        return (agent_values, env_values)\n",
    "\n",
    "    def action_space(self, curr_state):\n",
    "        \"\"\"Takes the current state as input and returns all possible actions, i.e, all combinations of allowed positions and allowed values\"\"\"\n",
    "\n",
    "        allowed_positions = self.allowed_positions(curr_state)\n",
    "        allowed_values = self.allowed_values(curr_state)\n",
    "\n",
    "        # action space of a given space is the cartesian product of all allowed positions and allowed values\n",
    "        agent_actions = product(allowed_positions, allowed_values[0])\n",
    "        env_actions = product(allowed_positions, allowed_values[1])\n",
    "\n",
    "        return (agent_actions, env_actions)\n",
    "\n",
    "    def state_transition(self, curr_state, curr_action):\n",
    "        \"\"\"Takes current state and action and returns the board position just after agent's move.\n",
    "        Example: Input state- [1, 2, 3, 4, nan, nan, nan, nan, nan], action- [7, 9] or [position, value]\n",
    "        Output = [1, 2, 3, 4, nan, nan, nan, 9, nan]\n",
    "        \"\"\"\n",
    "\n",
    "        # current new state variable from existing state\n",
    "        new_state = [i for i in curr_state]\n",
    "\n",
    "        # update current action\n",
    "        new_state[curr_action[0]] = curr_action[1]\n",
    "\n",
    "        return new_state\n",
    "\n",
    "    def step(self, curr_state, curr_action):\n",
    "        \"\"\"Takes current state and action and returns the next state, reward and whether the state is terminal. Hint: First, check the board position after\n",
    "        agent's move, whether the game is won/loss/tied. Then incorporate environment's move and again check the board status.\n",
    "        Example: Input state- [1, 2, 3, 4, nan, nan, nan, nan, nan], action- [7, 9] or [position, value]\n",
    "        Output = ([1, 2, 3, 4, nan, nan, nan, 9, nan], -1, False)\"\"\"\n",
    "\n",
    "        # generate new state after agent's move\n",
    "        new_state = self.state_transition(curr_state, curr_action)\n",
    "\n",
    "        # check if terminal state has been reached i.e.\n",
    "        # either agent has won or it's a tie\n",
    "        has_reached_terminal_state, message = self.is_terminal(new_state)\n",
    "\n",
    "        if has_reached_terminal_state:\n",
    "            # set correct reward and message when game proceeds to a terminal state due to agent move\n",
    "            if message == \"Win\":\n",
    "                reward = 10\n",
    "                game_message = \"Agent Won!\"\n",
    "            else:\n",
    "                reward = 0\n",
    "                game_message = \"It's a tie!\"\n",
    "\n",
    "            return (new_state, reward, has_reached_terminal_state,\n",
    "                    game_message)\n",
    "        else:\n",
    "            # game is not in terminal state\n",
    "\n",
    "            # generate random environment action\n",
    "            _, env_actions = self.action_space(new_state)\n",
    "            env_action = random.choice(\n",
    "                [ac for i, ac in enumerate(env_actions)])\n",
    "\n",
    "            # move to new state due to environment action\n",
    "            new_state_post_env_action = self.state_transition(\n",
    "                new_state, env_action)\n",
    "\n",
    "            # check if environment action results in a terminal state\n",
    "            has_reached_terminal_state, message = self.is_terminal(\n",
    "                new_state_post_env_action)\n",
    "\n",
    "            # decide whether environment has won, it's a tie or game can continue further\n",
    "            if has_reached_terminal_state:\n",
    "                if message == \"Win\":\n",
    "                    reward = -10\n",
    "                    game_message = \"Environment Won!\"\n",
    "                else:\n",
    "                    reward = 0\n",
    "                    game_message = \"It's a tie!\"\n",
    "            else:\n",
    "                reward = -1\n",
    "                game_message = \"Resume\"\n",
    "\n",
    "            return (\n",
    "                new_state_post_env_action,\n",
    "                reward,\n",
    "                has_reached_terminal_state,\n",
    "                game_message,\n",
    "            )\n",
    "\n",
    "    def reset(self):\n",
    "        return self.state"
   ]
  },
  {
   "cell_type": "markdown",
   "metadata": {},
   "source": [
    "### Helper Functions\n",
    "---"
   ]
  },
  {
   "cell_type": "markdown",
   "metadata": {},
   "source": [
    "#### convert state array into a string to be used as a key in Q - Dictionary\n",
    "\n",
    ">  for a given state :\n",
    "-  x | 4 | 5\n",
    "-  3 | 8 | x\n",
    "-  x | x | x\n",
    "   \n",
    "*generated key :* **x-4-5-3-8-x-x-x-x**"
   ]
  },
  {
   "cell_type": "code",
   "execution_count": 4,
   "metadata": {},
   "outputs": [],
   "source": [
    "def generate_state_key(state):\n",
    "\n",
    "    return ('-'.join(str(e) for e in state)).replace('nan', 'x')"
   ]
  },
  {
   "cell_type": "markdown",
   "metadata": {},
   "source": [
    "#### generate valid 'agent' actions for a given state"
   ]
  },
  {
   "cell_type": "code",
   "execution_count": 5,
   "metadata": {},
   "outputs": [],
   "source": [
    "def generate_valid_actions(state):\n",
    "    \n",
    "    possible_agent_actions, possible_env_actions = env.action_space(state)\n",
    "\n",
    "    agent_actions_list = [ac for i, ac in enumerate(possible_agent_actions)]\n",
    "\n",
    "    return agent_actions_list"
   ]
  },
  {
   "cell_type": "markdown",
   "metadata": {},
   "source": [
    "#### add new state to Q - Dictionary"
   ]
  },
  {
   "cell_type": "code",
   "execution_count": 6,
   "metadata": {},
   "outputs": [],
   "source": [
    "def add_state_to_q_dict(state):\n",
    "    # convert new state into Q-dictionary key form\n",
    "    new_state_key = generate_state_key(state)\n",
    "\n",
    "    # calculate valid actions for the given state\n",
    "    agent_actions = generate_valid_actions(state)\n",
    "\n",
    "    if new_state_key not in Q_dict.keys():\n",
    "        for action in agent_actions:\n",
    "            Q_dict[new_state_key][action] = 0"
   ]
  },
  {
   "cell_type": "markdown",
   "metadata": {},
   "source": [
    "#### tracking states initialization"
   ]
  },
  {
   "cell_type": "code",
   "execution_count": 7,
   "metadata": {},
   "outputs": [],
   "source": [
    "def initialise_tracking_states():\n",
    "    state_action_pair = [('x-7-3-x-2-8-x-x-x', (0, 1)),\n",
    "                         ('x-1-2-x-7-x-x-6-x', (3, 3)),\n",
    "                         ('x-1-x-x-x-x-8-6-7', (0, 3)),\n",
    "                         ('6-x-7-x-x-1-x-x-4', (1, 5)),\n",
    "                         ('x-x-x-4-9-2-7-x-x', (1, 1)),\n",
    "                         ('x-x-3-8-2-x-x-x-5', (0, 1)),\n",
    "                         ('3-x-7-x-x-x-x-8-2', (5, 5)),\n",
    "                         ('2-x-1-8-x-7-x-x-x', (4, 3)),\n",
    "                         ('1-x-3-x-6-x-x-4-x', (1, 5))] \n",
    "    for st, ac in state_action_pair:\n",
    "        tracked_states[st][ac] = list()\n",
    "        tracked_rewards[st] = list()"
   ]
  },
  {
   "cell_type": "markdown",
   "metadata": {},
   "source": [
    "#### persisting q-values corresponding to tracked states"
   ]
  },
  {
   "cell_type": "code",
   "execution_count": 8,
   "metadata": {},
   "outputs": [],
   "source": [
    "def save_tracking_states():\n",
    "    for state in tracked_states.keys():\n",
    "        for action in tracked_states[state].keys():\n",
    "            if state in Q_dict and action in Q_dict[state]:\n",
    "                tracked_states[state][action].append(Q_dict[state][action])"
   ]
  },
  {
   "cell_type": "markdown",
   "metadata": {},
   "source": [
    "#### save model object"
   ]
  },
  {
   "cell_type": "code",
   "execution_count": 9,
   "metadata": {},
   "outputs": [],
   "source": [
    "def save_obj(obj, name):\n",
    "    with open(name + '.pkl', 'wb') as f:\n",
    "        pickle.dump(obj, f, pickle.HIGHEST_PROTOCOL)"
   ]
  },
  {
   "cell_type": "markdown",
   "metadata": {},
   "source": [
    "### Epsilon - Greedy Strategy\n",
    "---"
   ]
  },
  {
   "cell_type": "markdown",
   "metadata": {},
   "source": [
    "Epsilon greedy policy is a way of selecting random actions with uniform distribution from a set of available actions. Using this policy either we can select random action with epsilon probability and we can select an action with 1-epsilon probability that gives maximum reward in given state"
   ]
  },
  {
   "cell_type": "markdown",
   "metadata": {},
   "source": [
    "#### check epsilon decay over episodes"
   ]
  },
  {
   "cell_type": "code",
   "execution_count": 10,
   "metadata": {},
   "outputs": [
    {
     "data": {
      "image/png": "[encoded data removed]",
      "text/plain": [
       "<Figure size 432x288 with 1 Axes>"
      ]
     },
     "metadata": {
      "needs_background": "light"
     },
     "output_type": "display_data"
    }
   ],
   "source": [
    "epsilon = []\n",
    "max_epsilon = 1.0\n",
    "min_epsilon = 0.001\n",
    "\n",
    "episodes = np.arange(0, 1000000)\n",
    "\n",
    "for i in episodes:\n",
    "    epsilon.append(min_epsilon +\n",
    "                   (max_epsilon - min_epsilon) * np.exp(-0.000001 * i))\n",
    "\n",
    "plt.plot(episodes, epsilon)\n",
    "plt.show()"
   ]
  },
  {
   "cell_type": "code",
   "execution_count": 11,
   "metadata": {},
   "outputs": [],
   "source": [
    "def select_action_epsilon_greedy(state, episodes):\n",
    "\n",
    "    max_epsilon = 1.0\n",
    "    min_epsilon = 0.001\n",
    "    \n",
    "    random_value = np.random.random()\n",
    "    \n",
    "    # with increase in the number of episodes, epsilon value reduces\n",
    "    # this pushes the system to exploit existing system states\n",
    "    epsilon_value = min_epsilon + (max_epsilon - min_epsilon) * np.exp(-0.00001 * episodes)\n",
    "    \n",
    "    if random_value > epsilon_value:\n",
    "        # exploitation strategy - gets the action corresponding to max q-value for given state\n",
    "        proposed_action = max(Q_dict[generate_state_key(state)],\n",
    "                              key=Q_dict[generate_state_key(state)].get)\n",
    "    else:\n",
    "        # exploration strategy - randomly choose an agent action from allowed action space\n",
    "        proposed_action = random.choice(\n",
    "            [ac for itr, ac in enumerate(env.action_space(state)[0])])\n",
    "    \n",
    "    return proposed_action"
   ]
  },
  {
   "cell_type": "markdown",
   "metadata": {},
   "source": [
    "### Initialization\n",
    "---"
   ]
  },
  {
   "cell_type": "code",
   "execution_count": 12,
   "metadata": {},
   "outputs": [],
   "source": [
    "# environment object\n",
    "env = TicTacToeEnvironment()\n",
    "\n",
    "# q-dictionary used for tracking (state, action) pairs with corresponing q-values\n",
    "Q_dict = collections.defaultdict(dict)\n",
    "\n",
    "# set of states tracked for convergence\n",
    "tracked_states = collections.defaultdict(dict)\n",
    "\n",
    "# set of states tracked for rewards\n",
    "tracked_rewards = collections.defaultdict(dict)\n",
    "\n",
    "initialise_tracking_states()"
   ]
  },
  {
   "cell_type": "markdown",
   "metadata": {},
   "source": [
    "### Hyperparameters\n",
    "---"
   ]
  },
  {
   "cell_type": "code",
   "execution_count": 13,
   "metadata": {},
   "outputs": [],
   "source": [
    "episodes = 1000000\n",
    "\n",
    "learning_rate=0.01\n",
    "gamma = 0.91\n",
    "\n",
    "checkpoint_state_tracking = 1000\n",
    "checkpoint_print_episodes = 10000"
   ]
  },
  {
   "cell_type": "markdown",
   "metadata": {},
   "source": [
    "### Q - Learning\n",
    "---"
   ]
  },
  {
   "cell_type": "code",
   "execution_count": 14,
   "metadata": {},
   "outputs": [
    {
     "name": "stdout",
     "output_type": "stream",
     "text": [
      "After playing 10000 games, Agent Won : 0.2473, Environment Won : 0.2891, Tie(s) : 0.4636\n",
      "After playing 20000 games, Agent Won : 0.2490, Environment Won : 0.2870, Tie(s) : 0.4641\n",
      "After playing 30000 games, Agent Won : 0.2518, Environment Won : 0.2881, Tie(s) : 0.4600\n",
      "After playing 40000 games, Agent Won : 0.2536, Environment Won : 0.2851, Tie(s) : 0.4614\n",
      "After playing 50000 games, Agent Won : 0.2534, Environment Won : 0.2845, Tie(s) : 0.4622\n",
      "After playing 60000 games, Agent Won : 0.2539, Environment Won : 0.2825, Tie(s) : 0.4637\n",
      "After playing 70000 games, Agent Won : 0.2549, Environment Won : 0.2823, Tie(s) : 0.4628\n",
      "After playing 80000 games, Agent Won : 0.2564, Environment Won : 0.2812, Tie(s) : 0.4623\n",
      "After playing 90000 games, Agent Won : 0.2574, Environment Won : 0.2812, Tie(s) : 0.4614\n",
      "After playing 100000 games, Agent Won : 0.2577, Environment Won : 0.2809, Tie(s) : 0.4614\n",
      "After playing 110000 games, Agent Won : 0.2590, Environment Won : 0.2800, Tie(s) : 0.4609\n",
      "After playing 120000 games, Agent Won : 0.2606, Environment Won : 0.2791, Tie(s) : 0.4603\n",
      "After playing 130000 games, Agent Won : 0.2615, Environment Won : 0.2786, Tie(s) : 0.4599\n",
      "After playing 140000 games, Agent Won : 0.2634, Environment Won : 0.2773, Tie(s) : 0.4593\n",
      "After playing 150000 games, Agent Won : 0.2650, Environment Won : 0.2766, Tie(s) : 0.4584\n",
      "After playing 160000 games, Agent Won : 0.2662, Environment Won : 0.2758, Tie(s) : 0.4580\n",
      "After playing 170000 games, Agent Won : 0.2675, Environment Won : 0.2753, Tie(s) : 0.4573\n",
      "After playing 180000 games, Agent Won : 0.2689, Environment Won : 0.2747, Tie(s) : 0.4564\n",
      "After playing 190000 games, Agent Won : 0.2700, Environment Won : 0.2740, Tie(s) : 0.4560\n",
      "After playing 200000 games, Agent Won : 0.2717, Environment Won : 0.2731, Tie(s) : 0.4552\n",
      "After playing 210000 games, Agent Won : 0.2731, Environment Won : 0.2726, Tie(s) : 0.4543\n",
      "After playing 220000 games, Agent Won : 0.2742, Environment Won : 0.2717, Tie(s) : 0.4541\n",
      "After playing 230000 games, Agent Won : 0.2757, Environment Won : 0.2706, Tie(s) : 0.4537\n",
      "After playing 240000 games, Agent Won : 0.2771, Environment Won : 0.2697, Tie(s) : 0.4532\n",
      "After playing 250000 games, Agent Won : 0.2783, Environment Won : 0.2690, Tie(s) : 0.4526\n",
      "After playing 260000 games, Agent Won : 0.2799, Environment Won : 0.2682, Tie(s) : 0.4519\n",
      "After playing 270000 games, Agent Won : 0.2812, Environment Won : 0.2675, Tie(s) : 0.4513\n",
      "After playing 280000 games, Agent Won : 0.2823, Environment Won : 0.2668, Tie(s) : 0.4509\n",
      "After playing 290000 games, Agent Won : 0.2836, Environment Won : 0.2661, Tie(s) : 0.4502\n",
      "After playing 300000 games, Agent Won : 0.2848, Environment Won : 0.2657, Tie(s) : 0.4495\n",
      "After playing 310000 games, Agent Won : 0.2858, Environment Won : 0.2651, Tie(s) : 0.4491\n",
      "After playing 320000 games, Agent Won : 0.2872, Environment Won : 0.2645, Tie(s) : 0.4483\n",
      "After playing 330000 games, Agent Won : 0.2883, Environment Won : 0.2641, Tie(s) : 0.4476\n",
      "After playing 340000 games, Agent Won : 0.2893, Environment Won : 0.2635, Tie(s) : 0.4472\n",
      "After playing 350000 games, Agent Won : 0.2904, Environment Won : 0.2630, Tie(s) : 0.4465\n",
      "After playing 360000 games, Agent Won : 0.2914, Environment Won : 0.2624, Tie(s) : 0.4462\n",
      "After playing 370000 games, Agent Won : 0.2927, Environment Won : 0.2617, Tie(s) : 0.4455\n",
      "After playing 380000 games, Agent Won : 0.2940, Environment Won : 0.2610, Tie(s) : 0.4450\n",
      "After playing 390000 games, Agent Won : 0.2952, Environment Won : 0.2605, Tie(s) : 0.4443\n",
      "After playing 400000 games, Agent Won : 0.2963, Environment Won : 0.2601, Tie(s) : 0.4437\n",
      "After playing 410000 games, Agent Won : 0.2973, Environment Won : 0.2597, Tie(s) : 0.4430\n",
      "After playing 420000 games, Agent Won : 0.2985, Environment Won : 0.2594, Tie(s) : 0.4422\n",
      "After playing 430000 games, Agent Won : 0.2996, Environment Won : 0.2588, Tie(s) : 0.4416\n",
      "After playing 440000 games, Agent Won : 0.3008, Environment Won : 0.2583, Tie(s) : 0.4409\n",
      "After playing 450000 games, Agent Won : 0.3018, Environment Won : 0.2579, Tie(s) : 0.4402\n",
      "After playing 460000 games, Agent Won : 0.3027, Environment Won : 0.2577, Tie(s) : 0.4396\n",
      "After playing 470000 games, Agent Won : 0.3037, Environment Won : 0.2573, Tie(s) : 0.4390\n",
      "After playing 480000 games, Agent Won : 0.3049, Environment Won : 0.2568, Tie(s) : 0.4383\n",
      "After playing 490000 games, Agent Won : 0.3058, Environment Won : 0.2565, Tie(s) : 0.4377\n",
      "After playing 500000 games, Agent Won : 0.3070, Environment Won : 0.2560, Tie(s) : 0.4370\n",
      "After playing 510000 games, Agent Won : 0.3081, Environment Won : 0.2556, Tie(s) : 0.4363\n",
      "After playing 520000 games, Agent Won : 0.3090, Environment Won : 0.2552, Tie(s) : 0.4357\n",
      "After playing 530000 games, Agent Won : 0.3100, Environment Won : 0.2549, Tie(s) : 0.4351\n",
      "After playing 540000 games, Agent Won : 0.3112, Environment Won : 0.2543, Tie(s) : 0.4345\n",
      "After playing 550000 games, Agent Won : 0.3122, Environment Won : 0.2539, Tie(s) : 0.4339\n",
      "After playing 560000 games, Agent Won : 0.3130, Environment Won : 0.2536, Tie(s) : 0.4334\n",
      "After playing 570000 games, Agent Won : 0.3140, Environment Won : 0.2533, Tie(s) : 0.4327\n",
      "After playing 580000 games, Agent Won : 0.3149, Environment Won : 0.2530, Tie(s) : 0.4321\n",
      "After playing 590000 games, Agent Won : 0.3160, Environment Won : 0.2526, Tie(s) : 0.4315\n",
      "After playing 600000 games, Agent Won : 0.3169, Environment Won : 0.2522, Tie(s) : 0.4308\n",
      "After playing 610000 games, Agent Won : 0.3177, Environment Won : 0.2520, Tie(s) : 0.4303\n",
      "After playing 620000 games, Agent Won : 0.3186, Environment Won : 0.2516, Tie(s) : 0.4298\n",
      "After playing 630000 games, Agent Won : 0.3195, Environment Won : 0.2511, Tie(s) : 0.4293\n",
      "After playing 640000 games, Agent Won : 0.3204, Environment Won : 0.2508, Tie(s) : 0.4288\n",
      "After playing 650000 games, Agent Won : 0.3214, Environment Won : 0.2505, Tie(s) : 0.4282\n",
      "After playing 660000 games, Agent Won : 0.3223, Environment Won : 0.2501, Tie(s) : 0.4276\n",
      "After playing 670000 games, Agent Won : 0.3231, Environment Won : 0.2498, Tie(s) : 0.4271\n",
      "After playing 680000 games, Agent Won : 0.3240, Environment Won : 0.2494, Tie(s) : 0.4266\n",
      "After playing 690000 games, Agent Won : 0.3251, Environment Won : 0.2490, Tie(s) : 0.4259\n",
      "After playing 700000 games, Agent Won : 0.3259, Environment Won : 0.2487, Tie(s) : 0.4254\n",
      "After playing 710000 games, Agent Won : 0.3267, Environment Won : 0.2483, Tie(s) : 0.4250\n",
      "After playing 720000 games, Agent Won : 0.3277, Environment Won : 0.2479, Tie(s) : 0.4244\n",
      "After playing 730000 games, Agent Won : 0.3286, Environment Won : 0.2475, Tie(s) : 0.4239\n",
      "After playing 740000 games, Agent Won : 0.3296, Environment Won : 0.2473, Tie(s) : 0.4231\n",
      "After playing 750000 games, Agent Won : 0.3304, Environment Won : 0.2470, Tie(s) : 0.4226\n",
      "After playing 760000 games, Agent Won : 0.3312, Environment Won : 0.2468, Tie(s) : 0.4220\n",
      "After playing 770000 games, Agent Won : 0.3321, Environment Won : 0.2464, Tie(s) : 0.4215\n",
      "After playing 780000 games, Agent Won : 0.3329, Environment Won : 0.2462, Tie(s) : 0.4209\n",
      "After playing 790000 games, Agent Won : 0.3338, Environment Won : 0.2458, Tie(s) : 0.4204\n",
      "After playing 800000 games, Agent Won : 0.3347, Environment Won : 0.2455, Tie(s) : 0.4198\n",
      "After playing 810000 games, Agent Won : 0.3355, Environment Won : 0.2452, Tie(s) : 0.4193\n",
      "After playing 820000 games, Agent Won : 0.3364, Environment Won : 0.2449, Tie(s) : 0.4187\n",
      "After playing 830000 games, Agent Won : 0.3371, Environment Won : 0.2448, Tie(s) : 0.4182\n",
      "After playing 840000 games, Agent Won : 0.3380, Environment Won : 0.2445, Tie(s) : 0.4175\n",
      "After playing 850000 games, Agent Won : 0.3389, Environment Won : 0.2442, Tie(s) : 0.4170\n",
      "After playing 860000 games, Agent Won : 0.3398, Environment Won : 0.2438, Tie(s) : 0.4164\n",
      "After playing 870000 games, Agent Won : 0.3407, Environment Won : 0.2435, Tie(s) : 0.4158\n",
      "After playing 880000 games, Agent Won : 0.3415, Environment Won : 0.2433, Tie(s) : 0.4153\n",
      "After playing 890000 games, Agent Won : 0.3422, Environment Won : 0.2429, Tie(s) : 0.4149\n",
      "After playing 900000 games, Agent Won : 0.3429, Environment Won : 0.2427, Tie(s) : 0.4144\n",
      "After playing 910000 games, Agent Won : 0.3437, Environment Won : 0.2424, Tie(s) : 0.4139\n",
      "After playing 920000 games, Agent Won : 0.3447, Environment Won : 0.2420, Tie(s) : 0.4133\n"
     ]
    },
    {
     "name": "stdout",
     "output_type": "stream",
     "text": [
      "After playing 930000 games, Agent Won : 0.3455, Environment Won : 0.2417, Tie(s) : 0.4128\n",
      "After playing 940000 games, Agent Won : 0.3464, Environment Won : 0.2415, Tie(s) : 0.4122\n",
      "After playing 950000 games, Agent Won : 0.3472, Environment Won : 0.2411, Tie(s) : 0.4117\n",
      "After playing 960000 games, Agent Won : 0.3481, Environment Won : 0.2408, Tie(s) : 0.4111\n",
      "After playing 970000 games, Agent Won : 0.3489, Environment Won : 0.2406, Tie(s) : 0.4105\n",
      "After playing 980000 games, Agent Won : 0.3497, Environment Won : 0.2403, Tie(s) : 0.4099\n",
      "After playing 990000 games, Agent Won : 0.3506, Environment Won : 0.2401, Tie(s) : 0.4093\n",
      "After playing 1000000 games, Agent Won : 0.3515, Environment Won : 0.2398, Tie(s) : 0.4087\n",
      "Elapsed time : 2877.269942998886\n"
     ]
    }
   ],
   "source": [
    "start_time = time.time()\n",
    "\n",
    "agent_won_count = 0\n",
    "env_won_count = 0\n",
    "tie_count = 0\n",
    "\n",
    "reward_state = None\n",
    "\n",
    "for episode in range(episodes):\n",
    "\n",
    "    # build a new environment for this episode\n",
    "    env = TicTacToeEnvironment()\n",
    "\n",
    "    # generate a fresh state for the current environment\n",
    "    current_state = env.state\n",
    "\n",
    "    # add current state to Q - dictionary for Q - learning\n",
    "    add_state_to_q_dict(current_state)\n",
    "    \n",
    "    reward_state = None\n",
    "    \n",
    "    is_terminal_state = False\n",
    "    \n",
    "    # play the game till a terminal state has been reached     \n",
    "    while not is_terminal_state:\n",
    "        \n",
    "        # use the same epsilon greedy strategy for a given episode i.e. 1 game\n",
    "        agent_action = select_action_epsilon_greedy(current_state, episode)\n",
    "        \n",
    "        # given the current state and agent action, move game to the next step\n",
    "        # record - next_state, reward, terminal state         \n",
    "        next_state, reward, is_terminal_state, msg = env.step(\n",
    "            current_state, agent_action)\n",
    "\n",
    "        add_state_to_q_dict(next_state)\n",
    "\n",
    "        current_state_key = generate_state_key(current_state)\n",
    "        reward_state = current_state_key\n",
    "\n",
    "        if is_terminal_state:\n",
    "            # terminal state - either a tie or a win by agent or environment\n",
    "            if msg == \"Agent Won!\":\n",
    "                agent_won_count += 1\n",
    "\n",
    "            elif msg == \"Environment Won!\":\n",
    "                env_won_count += 1\n",
    "                \n",
    "            else:\n",
    "                tie_count += 1\n",
    "                \n",
    "            best_next_action = None\n",
    "            \n",
    "            # in a terminal state, Q - value of next state will be ZERO\n",
    "            Q_dict[generate_state_key(current_state)][agent_action] += learning_rate * (\n",
    "                (reward +\n",
    "                 (gamma * 0)) - Q_dict[generate_state_key(current_state)][agent_action])\n",
    "        else:\n",
    "            # generate 'best next action' corresponding to next state from Q - dictionary\n",
    "            best_next_action = max(Q_dict[generate_state_key(next_state)],\n",
    "                                   key=Q_dict[generate_state_key(next_state)].get)\n",
    "            \n",
    "            # update q-value of (current state, agent action) pair\n",
    "            Q_dict[generate_state_key(current_state)][agent_action] += learning_rate * (\n",
    "                (reward + (gamma *\n",
    "                           (Q_dict[generate_state_key(next_state)][best_next_action]))) -\n",
    "                Q_dict[generate_state_key(current_state)][agent_action])\n",
    "\n",
    "        current_state = next_state\n",
    "        \n",
    "        if reward_state in tracked_rewards.keys():\n",
    "            tracked_rewards[reward_state].append(reward)\n",
    "    \n",
    "    if (episode + 1) % checkpoint_print_episodes == 0:\n",
    "        print(\n",
    "            \"After playing %d games, Agent Won : %.4f, Environment Won : %.4f, Tie(s) : %.4f\"\n",
    "            % (episode + 1, agent_won_count / (episode + 1), env_won_count /\n",
    "               (episode + 1), tie_count / (episode + 1)))\n",
    "\n",
    "    if (episode + 1) % checkpoint_state_tracking == 0:\n",
    "        save_tracking_states()\n",
    "\n",
    "elapsed_time = time.time() - start_time\n",
    "print(\"Elapsed time :\", elapsed_time)"
   ]
  },
  {
   "cell_type": "code",
   "execution_count": 20,
   "metadata": {},
   "outputs": [
    {
     "name": "stdout",
     "output_type": "stream",
     "text": [
      "Number of games won by agent - 351526\n",
      "Number of games won by environment - 239777\n",
      "Number of tie games - 408697\n"
     ]
    }
   ],
   "source": [
    "print('Number of games won by agent - {0}'.format(agent_won_count))\n",
    "\n",
    "print('Number of games won by environment - {0}'.format(env_won_count))\n",
    "\n",
    "print('Number of tie games - {0}'.format(tie_count))"
   ]
  },
  {
   "cell_type": "code",
   "execution_count": 21,
   "metadata": {},
   "outputs": [],
   "source": [
    "save_obj(tracked_states, 'tracked_states')"
   ]
  },
  {
   "cell_type": "markdown",
   "metadata": {},
   "source": [
    "### Q - values convergence\n",
    "---"
   ]
  },
  {
   "cell_type": "code",
   "execution_count": 22,
   "metadata": {},
   "outputs": [
    {
     "data": {
      "text/plain": [
       "defaultdict(dict,\n",
       "            {'x-7-3-x-2-8-x-x-x': {(0, 1): 882},\n",
       "             'x-1-2-x-7-x-x-6-x': {(3, 3): 873},\n",
       "             'x-1-x-x-x-x-8-6-7': {(0, 3): 875},\n",
       "             '6-x-7-x-x-1-x-x-4': {(1, 5): 931},\n",
       "             'x-x-x-4-9-2-7-x-x': {(1, 1): 814},\n",
       "             'x-x-3-8-2-x-x-x-5': {(0, 1): 898},\n",
       "             '3-x-7-x-x-x-x-8-2': {(5, 5): 596},\n",
       "             '2-x-1-8-x-7-x-x-x': {(4, 3): 970},\n",
       "             '1-x-3-x-6-x-x-4-x': {(1, 5): 943}})"
      ]
     },
     "execution_count": 22,
     "metadata": {},
     "output_type": "execute_result"
    }
   ],
   "source": [
    "state_track_val = collections.defaultdict(dict)\n",
    "\n",
    "for state in tracked_states.keys():\n",
    "    for action in tracked_states[state].keys():\n",
    "        qvals = tracked_states[state][action]\n",
    "        total_tracked_values = len(qvals)\n",
    "        state_track_val[state][action] = total_tracked_values\n",
    "            \n",
    "state_track_val"
   ]
  },
  {
   "cell_type": "markdown",
   "metadata": {},
   "source": [
    "#### draw convergence plot for a state - action pair\n",
    "---"
   ]
  },
  {
   "cell_type": "code",
   "execution_count": 23,
   "metadata": {},
   "outputs": [],
   "source": [
    "def plot_q_val_convergence(state, action):\n",
    "\n",
    "    iterations = state_track_val[state][action]\n",
    "    plt.plot(range(0, iterations), tracked_states[state][action])\n",
    "    \n",
    "    \n",
    "    plt.ylabel(\"Q_value\")\n",
    "    \n",
    "    plt.title(\"State : {0} - action : {1}\".format(state, action))\n",
    "    plt.legend([\"Q-value\"], loc=\"lower right\")"
   ]
  },
  {
   "cell_type": "markdown",
   "metadata": {},
   "source": [
    "#### display convergence of tracked states\n",
    "---"
   ]
  },
  {
   "cell_type": "code",
   "execution_count": 24,
   "metadata": {},
   "outputs": [
    {
     "data": {
      "text/plain": [
       "<Figure size 1440x1080 with 0 Axes>"
      ]
     },
     "metadata": {},
     "output_type": "display_data"
    },
    {
     "data": {
      "image/png": "[encoded data removed]",
      "text/plain": [
       "<Figure size 1440x1080 with 10 Axes>"
      ]
     },
     "metadata": {
      "needs_background": "light"
     },
     "output_type": "display_data"
    }
   ],
   "source": [
    "plt.figure(0, figsize=(20, 15))\n",
    "\n",
    "fig, axes = plt.subplots(nrows=5, ncols=2, figsize=(20, 15))\n",
    "fig.tight_layout()\n",
    "\n",
    "subplots = [i for i in range(521, 530)]\n",
    "\n",
    "i = 0\n",
    "\n",
    "for state in state_track_val.keys():\n",
    "    for action in state_track_val[state].keys():\n",
    "        plt.subplot(subplots[i])\n",
    "        plot_q_val_convergence(state, action)\n",
    "        i +=1\n",
    "\n",
    "plt.show()"
   ]
  },
  {
   "cell_type": "markdown",
   "metadata": {},
   "source": [
    "_**Following state - action pairs converged after training the system for 1 million episodes :**_\n",
    "\n",
    "> -  state : x-7-3-x-2-8-x-x-x, action : (0, 1)\n",
    "-  state : x-1-2-x-7-x-x-6-x, action : (3, 3)\n",
    "-  state : x-1-x-x-x-x-8-6-7, action : (0, 3)\n",
    "-  state : 6-x-7-x-x-1-x-x-4, action : (1, 5)\n",
    "-  state : 1-x-3-x-6-x-x-4-x, action : (1, 5)"
   ]
  },
  {
   "cell_type": "code",
   "execution_count": null,
   "metadata": {},
   "outputs": [],
   "source": []
  }
 ],
 "metadata": {
  "kernelspec": {
   "display_name": "Python 3",
   "language": "python",
   "name": "python3"
  },
  "language_info": {
   "codemirror_mode": {
    "name": "ipython",
    "version": 3
   },
   "file_extension": ".py",
   "mimetype": "text/x-python",
   "name": "python",
   "nbconvert_exporter": "python",
   "pygments_lexer": "ipython3",
   "version": "3.7.1"
  }
 },
 "nbformat": 4,
 "nbformat_minor": 2
}
